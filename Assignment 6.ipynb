{
 "cells": [
  {
   "cell_type": "markdown",
   "id": "4b72607c-e6bd-44e8-b391-874451b33c75",
   "metadata": {},
   "source": [
    "Q1. Explain Class and Object with respect to Object-Oriented Programming. Give a suitable example.\n",
    "Ans:-Class is a detailed description,the definition,and the template of what an object will be.But\n",
    "it is not object itself.Also,what we call,a class is the building block that leads to Object Oriented\n",
    "Programming.It is a user defined data type,that holds its own data members and member functions,which \n",
    "can be accessedand used by creating an instance of that class.It is the blueprint of any object.Once\n",
    "we have written a class and defined it,we can use it to create as many objects based on that class as\n",
    "we want.\n",
    "for example :- consider the class of Animals.There may be many animals with different names and types\n",
    "but all of the share some common properties like color, species, habitate, type of food they eat etc.\n",
    "so here, the Animal is the class.\n",
    "\n",
    "Object:-Object is an instance of a class.All data members and member functions of the class can be \n",
    "accessed with the help of objects.when a class is defined,no memory is allocated,but memory is \n",
    "allocated when it is instantiated(i.e an object is created).\n",
    "for example :- considering the objects for the class ANIMALs are dog,cat,cow,buffalo etc."
   ]
  },
  {
   "cell_type": "markdown",
   "id": "b3e45eda-cda6-4c47-bb2a-02ed15b6e3f6",
   "metadata": {},
   "source": [
    "Q2. Name the four pillars of OOPs.\n",
    "Ans :- The four pillars of OOPS are:-\n",
    "a.Abstraction\n",
    "b.Encapsulation\n",
    "c.Inheritance\n",
    "d.Polymorphism"
   ]
  },
  {
   "cell_type": "markdown",
   "id": "aecc2299-e00f-4c3d-8503-ac8a8686894b",
   "metadata": {},
   "source": [
    "Q3. Explain why the __init__() function is used. Give a suitable example.\n",
    "Ans:-__init__ is a type of constructor which is used in the class to initialize\n",
    "data members to the object.The __init__ function is called every time an object\n",
    "is created from a class.The __init__ method lets the class initialize the object's\n",
    "attributes.It is only used within classes."
   ]
  },
  {
   "cell_type": "code",
   "execution_count": 3,
   "id": "27c64240-eed9-4848-8e97-a5bf53b8ab8d",
   "metadata": {},
   "outputs": [
    {
     "name": "stdout",
     "output_type": "stream",
     "text": [
      "I am earth\n",
      "I am the 3 planet in the solar system\n"
     ]
    }
   ],
   "source": [
    "class planet:  \n",
    "    def __init__ (self, name, number):  \n",
    "        self. name = name  \n",
    "        self. number = number  \n",
    "    def function (self):  \n",
    "        print (\"I am\", self. name)  \n",
    "        print (\"I am the\", self. number, \"planet in the solar system\")  \n",
    "          \n",
    "earth = planet ('earth', 3)  \n",
    "earth. function ()  "
   ]
  },
  {
   "cell_type": "markdown",
   "id": "9583f48b-ee85-4804-8b90-a39b7bcaa999",
   "metadata": {},
   "source": [
    "Q4. Why self is used in OOPs?\n",
    "Ans:-Self represents the instance of the class.By using the \"self\" we can access the attributes and methods of the \n",
    "class in python.It binds the attributes with the given arguments.The use of self variable in python helps to \n",
    "differentiate between the instance attributes and local variables.It works as a reference to refer to instance \n",
    "attributes and methods of the class."
   ]
  },
  {
   "cell_type": "markdown",
   "id": "38e3ee21-ebbe-4283-99e3-2a0bc09da253",
   "metadata": {},
   "source": [
    "Q5. What is inheritance? Give an example for each type of inheritance.\n",
    "Ans:- Inhereitance is one of four pillars of object-oriented programming(oops).It is a feature that enables a class\n",
    "to acquire properties and characteristics of another class.During inheritance,the data members of the base class get\n",
    "copied in the derived class and can be accessed upon the visibility mode used.The order of the accesssibility is always\n",
    "in a decreasing order i.e., from public to protected.\n",
    "\n",
    "There are mainly five types of inheritance:-\n",
    "a.Single Inheritance\n",
    "b.Multiple Inheritance\n",
    "c.Multilevel Inheritance\n",
    "d.Hierarchical Inheritance\n",
    "e.Hybrid Inheritance\n",
    "Examples:-\n",
    "a.Single inheritance:- Dog class inherits the Animal class\n",
    "b.Multiple Inheritance:- parents are good example of multiple inheritance.\n",
    "c.Multilevel Inheritance:- child inheriting from his father who inherited from his grandfather.\n",
    "d.Hierarchical Inheritance:-when a 'car' class is derived from both a 'vehicle' class and a 'gasoline' class.\n",
    "e.Hybrid Inheritance:-class A as Animal class,class B as Mammals,cl\n",
    "\n",
    "\n",
    "               "
   ]
  },
  {
   "cell_type": "code",
   "execution_count": null,
   "id": "b9fdc32b-4958-46a8-8125-4909e8a1e894",
   "metadata": {},
   "outputs": [],
   "source": []
  }
 ],
 "metadata": {
  "kernelspec": {
   "display_name": "Python 3 (ipykernel)",
   "language": "python",
   "name": "python3"
  },
  "language_info": {
   "codemirror_mode": {
    "name": "ipython",
    "version": 3
   },
   "file_extension": ".py",
   "mimetype": "text/x-python",
   "name": "python",
   "nbconvert_exporter": "python",
   "pygments_lexer": "ipython3",
   "version": "3.10.8"
  },
  "toc-showtags": true
 },
 "nbformat": 4,
 "nbformat_minor": 5
}
